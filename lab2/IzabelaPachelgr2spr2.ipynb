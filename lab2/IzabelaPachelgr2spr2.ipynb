{
 "cells": [
  {
   "cell_type": "code",
   "execution_count": 2,
   "metadata": {},
   "outputs": [
    {
     "name": "stdout",
     "output_type": "stream",
     "text": [
      "Zad 1\n",
      "\n",
      "1a) Błąd bezwzględny:  0.0012644892673496777\n",
      "1b) Błąd względny:     0.0004024994347707008\n",
      "2a) Błąd bezwzględny:  0.0002818284590451192\n",
      "2b) Błąd względny:     0.00010367889601972718\n",
      "3a) Błąd bezwzględny:  11.544268632989315\n",
      "3b) Błąd względny:     0.008332470227394952\n",
      "4a) Błąd bezwzględny:  3343.1271580516477\n",
      "4b) Błąd zwzględny:    0.009212762230080598\n"
     ]
    }
   ],
   "source": [
    "\"\"\"\n",
    "@author: Izabela Pachel\n",
    "\"\"\"\n",
    "import math\n",
    "import numpy as np\n",
    "import matplotlib.pyplot as plt\n",
    "\n",
    "\n",
    "print(\"Zad 1\\n\")\n",
    "p = math.pi     #dokładnie\n",
    "p1 = 22/7       #przybliżenie\n",
    "bb = math.fabs(p-p1)        #war bezwzględna\n",
    "print(\"1a) Błąd bezwzględny: \", bb)\n",
    "bw = bb/p\n",
    "print(\"1b) Błąd względny:    \", bw)\n",
    "   \n",
    "p = math.exp(1)\n",
    "p1 = 2.718\n",
    "bb = math.fabs(p-p1)        #war bezwzględna\n",
    "print(\"2a) Błąd bezwzględny: \", bb)\n",
    "bw = bb/p\n",
    "print(\"2b) Błąd względny:    \", bw)\n",
    "   \n",
    "p = math.pow(10,math.pi)\n",
    "p1 = 1397\n",
    "bb = math.fabs(p-p1)        #war bezwzględna\n",
    "print(\"3a) Błąd bezwzględny: \", bb)\n",
    "bw = bb/p\n",
    "print(\"3b) Błąd względny:    \", bw)\n",
    "\n",
    "\"\"\"\n",
    "def silnia(n):              #iter, math.factorial()\n",
    "    i=0\n",
    "    suma=1\n",
    "    while(n != i):\n",
    "        i += 1\n",
    "        suma = suma * i\n",
    "    return suma\n",
    "    \"\"\"\n",
    "\n",
    "p = math.factorial(9)   #silnia\n",
    "p1 = math.sqrt(18*math.pi)*math.pow((9/math.exp(1)),9)\n",
    "\n",
    "bb = math.fabs(p-p1)        #war bezwzględna\n",
    "print(\"4a) Błąd bezwzględny: \", bb)\n",
    "bw = bb/p\n",
    "print(\"4b) Błąd zwzględny:   \", bw)\n",
    "   "
   ]
  },
  {
   "cell_type": "code",
   "execution_count": 118,
   "metadata": {},
   "outputs": [
    {
     "name": "stdout",
     "output_type": "stream",
     "text": [
      "\n",
      "Zad 2\n",
      "\n",
      "numerycznie:\n",
      " [3.14159265 3.14159265 3.14159265 3.14159265 3.14159265 3.14159265\n",
      " 3.14159265 3.14159265 3.14159266 3.14159279 3.14159185 3.14160156\n",
      " 3.14152644 3.14174107 3.14166667 3.25       2.82352941 0.\n",
      " 0.         0.         0.         0.         0.         0.        ]\n",
      "\n",
      "analitycznie:\n",
      "pi = 3.141592653589793 (niezależy od p)\n",
      "\n",
      "2a) Błąd bezwzględny:\n",
      " [0.0, 4e-15, 2.7e-14, 3.3e-13, 6.95e-13, 5.127e-12, 1.4455e-10, 1.21542e-10, 7.94992e-09, 1.35106496e-07, 8.01228287e-07, 8.908910207e-06, 6.6211282101e-05, 0.000148417838778, 7.4013076873e-05, 0.108407346410207, 0.318063241825087, 3.141592653589793, 3.141592653589793, 3.141592653589793, 3.141592653589793, 3.141592653589793, 3.141592653589793, 3.141592653589793]\n",
      "\n",
      "2b) Błąd względny:\n",
      " [0.0, 1.2732395447351629e-15, 8.594366926962348e-15, 1.0504226244065093e-13, 2.212253708977345e-13, 1.6319747864642948e-12, 4.6011694047866945e-11, 3.868802018655029e-11, 2.530538130370241e-09, 4.300573336445077e-08, 2.5503888484220355e-07, 2.835794194011781e-06, 2.1075705669652165e-05, 4.724286536906937e-05, 2.3559094075556782e-05, 0.03450713009731976, 0.10124267430459094, 1.0, 1.0, 1.0, 1.0, 1.0, 1.0, 1.0]\n"
     ]
    },
    {
     "data": {
      "image/png": "[encoded data removed]",
      "text/plain": [
       "<Figure size 640x480 with 1 Axes>"
      ]
     },
     "metadata": {},
     "output_type": "display_data"
    },
    {
     "name": "stdout",
     "output_type": "stream",
     "text": [
      "\n",
      "Wraz ze zwiększaniem się wyrazów ciągu, logarytmicznie wzrasta wartość błędu, aż od pewnego momentu jest prawie stała. \n",
      "Oznacza to, że algorytm jest numerycznie niepoprawny (obliczone rozwiązania przy nieco zaburzonych danych znacząco \n",
      "odbiegają od rozwiązania dokładnego). Pojawia się błąd reprezentacji (występuje zaokrąglenie w przypadku liczby pi).\n"
     ]
    }
   ],
   "source": [
    "print(\"\\nZad 2\\n\")\n",
    "#Metody numeryczne wykorzystywane są wówczas,gdy badany problem nie ma w ogóle rozwiązania analitycznego (danego wzorami) lub\n",
    "#korzystanie z takich rozwiązań jest uciążliwe ze względu na ich złożoność.\n",
    "\n",
    "#Rozwiązanie analityczne: Dokładny wynik numeryczny lub symboliczny (może wykorzystywać symbole,np. tan(83), pi, e).\n",
    "\n",
    "\n",
    "def G_p(n):         #analitycznie nie, numerycznie tak!!!\n",
    "    result = []\n",
    "\n",
    "    for p in range(1,n+1):      #bo bez ostatniego\n",
    "        G = (1.0/p)*(10**p * (1.0 + p*round(math.pi,15) * 10**-p) - 10**p)\n",
    "        result.append(G)\n",
    "    return(np.array(result))\n",
    "\n",
    "#analityczne rozwiązanie sprowadz się do pi; nie zależy od p  \n",
    "\n",
    "g = G_p(24)\n",
    "pi = round(math.pi,15)\n",
    "print(\"numerycznie:\\n\",g)\n",
    "print(\"\\nanalitycznie:\\npi =\",pi,\"(niezależy od p)\")\n",
    "\n",
    "bb = []    \n",
    "for i in range(len(g)):\n",
    "    bb.append(round(math.fabs(g[i]-pi),15))        #war bezwzględna\n",
    "print(\"\\n2a) Błąd bezwzględny:\\n\", bb)\n",
    "\n",
    "bw = []\n",
    "for i in range(len(g)):\n",
    "    bw.append(bb[i]/pi)   \n",
    "print(\"\\n2b) Błąd względny:\\n\", bw)\n",
    "\n",
    "\n",
    "def fbb(n):\n",
    "    h = (1.0/n)*(10**n * (1.0 + n*round(math.pi,15) * 10**-n) - 10**n)\n",
    "    k = np.fabs(h-pi)\n",
    "    return k\n",
    "\n",
    "\n",
    "\n",
    "\n",
    "def fbw(n):\n",
    "    h = (1.0/n)*(10**n * (1.0 + n*round(math.pi,15) * 10**-n) - 10**n)\n",
    "    k = np.fabs(h-pi)/pi\n",
    "    return k\n",
    "\n",
    "#x = np.arange(1,24,1)          #od,do,co\n",
    "x=np.linspace(1,24,24)              #od,do,ile\n",
    "plt.figure(num=None, figsize=(8, 6), dpi=80, facecolor='w', edgecolor='k')\n",
    "plt.semilogy(x,fbb(x), 'ro',label='błąd bezwzględny') \n",
    "plt.semilogy(x,fbw(x), 'co',label='błąd względny')           #Make a plot with log scaling on the y axis. \n",
    "plt.title('Wykres zależności wartości błędów od wyrazu ciągu')\n",
    "plt.xlabel('wyraz ciągu')\n",
    "plt.ylabel('wartość błędu')\n",
    "#plt.yscale('log')\n",
    "plt.xlim(left = 0,right = 25)            #Get or set the x limits of the current axes.\n",
    "plt.ylim()\n",
    "plt.legend()\n",
    "plt.show()\n",
    "print(\"\\nWraz ze zwiększaniem się wyrazów ciągu, logarytmicznie wzrasta wartość błędu, aż od pewnego momentu jest prawie stała. \\nOznacza to, że algorytm jest numerycznie niepoprawny (obliczone rozwiązania przy nieco zaburzonych danych znacząco \\nodbiegają od rozwiązania dokładnego).\",end=\" \")\n",
    "print(\"Pojawia się błąd reprezentacji (występuje zaokrąglenie w przypadku liczby pi).\") #Zaokrąglanie występuje w przypadku reprezentacji wszystkich liczb niewymiernych (tj. o nieskończonym rozwinięciu dwójkowym), takich jak np. π czy liczba Eulera."
   ]
  },
  {
   "cell_type": "code",
   "execution_count": 112,
   "metadata": {},
   "outputs": [
    {
     "name": "stdout",
     "output_type": "stream",
     "text": [
      "\n",
      "Zad 3\n",
      "\n",
      "  dla n = 5:\n",
      "1a) Błąd bezwzględny: 0.0016151617923787498\n",
      "1b) Błąd względny:    0.0005941848175817597\n",
      "  dla n = 10:\n",
      "2a) Błąd bezwzględny: 2.7312660577649694e-08\n",
      "2b) Błąd względny:    1.0047766310211053e-08\n"
     ]
    }
   ],
   "source": [
    "print(\"\\nZad 3\\n\")\n",
    "\n",
    "def sum_e(n):\n",
    "    e = 0\n",
    "    for i in range(0,n+1):\n",
    "            e += 1/math.factorial(i)\n",
    "    return e\n",
    "\n",
    "e = math.exp(1)     \n",
    "e1 = sum_e(5)\n",
    "e2 = sum_e(10)\n",
    "\n",
    "print(\"  dla n = 5:\")\n",
    "bb = math.fabs(e-e1)\n",
    "print(\"1a) Błąd bezwzględny:\", bb)\n",
    "bw = bb/e\n",
    "print(\"1b) Błąd względny:   \", bw)\n",
    "print(\"  dla n = 10:\")\n",
    "bb = math.fabs(e-e2)\n",
    "print(\"2a) Błąd bezwzględny:\", bb)\n",
    "bw = bb/e\n",
    "print(\"2b) Błąd względny:   \", bw)\n",
    "\n",
    "#aproksymacja czyli przybliżanie nieznanych funkcji "
   ]
  },
  {
   "cell_type": "code",
   "execution_count": 113,
   "metadata": {},
   "outputs": [
    {
     "name": "stdout",
     "output_type": "stream",
     "text": [
      "\n",
      "Zad 4\n",
      "\n",
      "Machine parameters for float64\n",
      "---------------------------------------------------------------\n",
      "precision =  15   resolution = 1.0000000000000001e-15\n",
      "machep =    -52   eps =        2.2204460492503131e-16\n",
      "negep =     -53   epsneg =     1.1102230246251565e-16\n",
      "minexp =  -1022   tiny =       2.2250738585072014e-308\n",
      "maxexp =   1024   max =        1.7976931348623157e+308\n",
      "nexp =       11   min =        -max\n",
      "---------------------------------------------------------------\n",
      "\n",
      "smallest representable positive number: 2.220446049250313e-16\n",
      "a = 1.0\n",
      "b = 2.220446049250313e-16\n",
      "a + b - a - b = 0.0\n",
      "\n",
      "liczba bitów mantysy: 53\n",
      "\n",
      "Ilość bitów mantysy określa precyzję zapisu. Im jest większa, tym dokładniej można przedstawiać liczby rzeczywiste, ale ich reprezentacja w maszynie i tak wymaga skończonej długości słów binarnych, co prowadzi do błędu zaokrąglenia w trakcie wykonywania obliczeń.\n"
     ]
    }
   ],
   "source": [
    "print(\"\\nZad 4\\n\")\n",
    "\n",
    "print(np.finfo(float))         #(float) The smallest representable positive number such that 1.0 + eps != 1.0. Type of eps is an appropriate floating point type.\n",
    "\n",
    "a = 1.0\n",
    "b = np.finfo(float).eps\n",
    "print(\"smallest representable positive number:\",np.finfo(b).eps)\n",
    "print(\"a =\",a)\n",
    "print(\"b =\",b)\n",
    "print(\"a + b - a - b =\",a+b-a-b)\n",
    "\n",
    "\"\"\"\n",
    "1 cyfra dziesiętna --- log2(10) bitów\n",
    "x cyfr dziesiętnych --- 53 bity #u nas  precyzja: x = 16 cyfr dziesiętnych \n",
    "\n",
    "#liczba cyfr cechy określa zakres reprezentowalnych liczb\n",
    "\"\"\"\n",
    "m = 16 * math.log(10,2)#(x,base)\n",
    "print(\"\\nliczba bitów mantysy:\",int(round(m,0)))\n",
    "print(\"\\nIlość bitów mantysy określa precyzję zapisu. Im jest większa, tym dokładniej można przedstawiać liczby rzeczywiste, ale ich reprezentacja w maszynie i tak wymaga skończonej długości słów binarnych, co prowadzi do błędu zaokrąglenia w trakcie wykonywania obliczeń.\")\n",
    "\n"
   ]
  },
  {
   "cell_type": "code",
   "execution_count": 4,
   "metadata": {},
   "outputs": [
    {
     "name": "stdout",
     "output_type": "stream",
     "text": [
      "\n",
      "Zad 5\n",
      "\n",
      "Przybliżenia liczby pi dla:\n",
      "n = 1 :       2.449489742783178\n",
      "n = 10 :      3.04936163598207\n",
      "n = 100 :     3.1320765318091053\n",
      "n = 1000 :    3.1406380562059946\n",
      "n = 10000 :   3.1414971639472147\n",
      "n = 100000 :  3.141583104326456\n",
      "\n",
      "Mamy tu do czynienia z błędęm obcięcia, powstałym podczas obliczeń, na skutek zmniejszania liczby działań (podczas \n",
      "obliczania sum nieskończonych). Im większa ilość wyrazów jest uwzględniana, tym błąd obcięcia jest mniejszy i możemy \n",
      "znaleźć tym dokładniejszą wartość wyrażenia. Mamy też do czynienia z błędem zaokrąglenia powstałym na skutek konieczności \n",
      "zaokrąglania obliczonych wartości ze względu na ograniczoną długość słów binarnych.\n"
     ]
    }
   ],
   "source": [
    "print(\"\\nZad 5\\n\")\n",
    "\"\"\"\n",
    "def sum_n(n):\n",
    "    res = 0.0\n",
    "    for i in range(1,n+1):\n",
    "            res += 1/(i**2.0)\n",
    "    return res\n",
    "\n",
    "def pi(n):\n",
    "    pi = math.sqrt(6.0*sum_n(n))\n",
    "    return pi\n",
    "\"\"\"\n",
    "pi = lambda n : math.sqrt(6.0*sum([1/(i**2.0) for i in range(1,n+1)]))\n",
    "\n",
    "print(\"Przybliżenia liczby pi dla:\")\n",
    "print(\"n = 1 :      \",pi(1))\n",
    "print(\"n = 10 :     \",pi(10))\n",
    "print(\"n = 100 :    \",pi(100))\n",
    "print(\"n = 1000 :   \",pi(1000))\n",
    "print(\"n = 10000 :  \",pi(10000))\n",
    "print(\"n = 100000 : \",pi(100000))\n",
    "\n",
    "print(\"\\nMamy tu do czynienia z błędęm obcięcia, powstałym podczas obliczeń, na skutek zmniejszania liczby działań (podczas \\nobliczania sum nieskończonych). Im większa ilość wyrazów jest uwzględniana, tym błąd obcięcia jest mniejszy i możemy \\nznaleźć tym dokładniejszą wartość wyrażenia. Mamy też do czynienia z błędem zaokrąglenia powstałym na skutek konieczności \\nzaokrąglania obliczonych wartości ze względu na ograniczoną długość słów binarnych.\")"
   ]
  },
  {
   "cell_type": "code",
   "execution_count": null,
   "metadata": {},
   "outputs": [],
   "source": []
  }
 ],
 "metadata": {
  "kernelspec": {
   "display_name": "Python 3",
   "language": "python",
   "name": "python3"
  },
  "language_info": {
   "codemirror_mode": {
    "name": "ipython",
    "version": 3
   },
   "file_extension": ".py",
   "mimetype": "text/x-python",
   "name": "python",
   "nbconvert_exporter": "python",
   "pygments_lexer": "ipython3",
   "version": "3.6.6"
  }
 },
 "nbformat": 4,
 "nbformat_minor": 2
}
